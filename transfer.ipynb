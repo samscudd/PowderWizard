{
 "cells": [
  {
   "cell_type": "code",
   "execution_count": 34,
   "metadata": {},
   "outputs": [],
   "source": [
    "import pandas as pd\n",
    "import numpy as np \n",
    "\n"
   ]
  },
  {
   "cell_type": "code",
   "execution_count": 41,
   "metadata": {},
   "outputs": [
    {
     "output_type": "execute_result",
     "data": {
      "text/plain": "      Date   regionToJoin o_day1DangerAboveTreeline o_day1DangerNearTreeline  \\\n0  3/23/16  alpineMeadows                  Moderate                 Moderate   \n1  3/23/16  alpineMeadows                  Moderate                 Moderate   \n2  3/23/16  alpineMeadows                  Moderate                 Moderate   \n3  3/23/16  alpineMeadows                  Moderate                 Moderate   \n4  3/23/16  alpineMeadows                  Moderate                 Moderate   \n\n  o_day1DangerBelowTreeline  n_f_APCPsurface1HourForecast  \\\n0                  Moderate                         0.625   \n1                  Moderate                         0.250   \n2                  Moderate                         0.375   \n3                  Moderate                         0.250   \n4                  Moderate                         0.250   \n\n   n_f_10mWindSpeed1HourForecast  n_f_APCPsurface2HourForecast  \\\n0                       3.047504                          1.00   \n1                       3.594403                          0.50   \n2                       2.958464                          0.75   \n3                       3.528096                          0.50   \n4                       2.877540                          0.50   \n\n   n_f_10mWindSpeed2HourForecast  n_f_APCPsurface3HourForecast  ...  \\\n0                       3.119280                          1.00  ...   \n1                       3.469913                          0.50  ...   \n2                       2.901877                          0.75  ...   \n3                       3.383531                          0.50  ...   \n4                       2.833720                          0.50  ...   \n\n   c_r_Prev3DayWindSlabLikeliness10InPast  \\\n0                                       1   \n1                                       0   \n2                                       1   \n3                                       1   \n4                                       1   \n\n   c_r_Prev7DayWindSlabLikeliness10InPast  \\\n0                                       1   \n1                                       0   \n2                                       1   \n3                                       1   \n4                                       1   \n\n   n_r_Prev24HoursPrecipAsRainTotalIn10InPast  \\\n0                                      98.875   \n1                                      93.875   \n2                                     112.500   \n3                                     121.625   \n4                                       0.000   \n\n   n_r_SNOWDAS_SnowDepth_mm10InPast  n_r_SNOWDAS_SWE_mm10InPast  \\\n0                              2708                         923   \n1                              2758                         930   \n2                              4115                        1436   \n3                              4215                        1473   \n4                              5102                        1836   \n\n   n_r_SNOWDAS_SnowmeltRunoff_micromm10InPast  \\\n0                                         664   \n1                                         515   \n2                                         462   \n3                                         231   \n4                                         148   \n\n   n_r_SNOWDAS_Sublimation_micromm10InPast  \\\n0                                       -3   \n1                                      -10   \n2                                       -9   \n3                                      -13   \n4                                        4   \n\n   n_r_SNOWDAS_SolidPrecip_kgpersquarem10InPast  \\\n0                                            63   \n1                                            55   \n2                                           143   \n3                                           135   \n4                                           171   \n\n   n_r_SNOWDAS_LiquidPrecip_kgpersquarem10InPast  \\\n0                                             98   \n1                                             76   \n2                                             59   \n3                                             45   \n4                                             45   \n\n   n_r_SNOWDAS_SnowpackAveTemp_k10InPast  \n0                                    273  \n1                                    273  \n2                                    273  \n3                                    273  \n4                                    273  \n\n[5 rows x 349 columns]",
      "text/html": "<div>\n<style scoped>\n    .dataframe tbody tr th:only-of-type {\n        vertical-align: middle;\n    }\n\n    .dataframe tbody tr th {\n        vertical-align: top;\n    }\n\n    .dataframe thead th {\n        text-align: right;\n    }\n</style>\n<table border=\"1\" class=\"dataframe\">\n  <thead>\n    <tr style=\"text-align: right;\">\n      <th></th>\n      <th>Date</th>\n      <th>regionToJoin</th>\n      <th>o_day1DangerAboveTreeline</th>\n      <th>o_day1DangerNearTreeline</th>\n      <th>o_day1DangerBelowTreeline</th>\n      <th>n_f_APCPsurface1HourForecast</th>\n      <th>n_f_10mWindSpeed1HourForecast</th>\n      <th>n_f_APCPsurface2HourForecast</th>\n      <th>n_f_10mWindSpeed2HourForecast</th>\n      <th>n_f_APCPsurface3HourForecast</th>\n      <th>...</th>\n      <th>c_r_Prev3DayWindSlabLikeliness10InPast</th>\n      <th>c_r_Prev7DayWindSlabLikeliness10InPast</th>\n      <th>n_r_Prev24HoursPrecipAsRainTotalIn10InPast</th>\n      <th>n_r_SNOWDAS_SnowDepth_mm10InPast</th>\n      <th>n_r_SNOWDAS_SWE_mm10InPast</th>\n      <th>n_r_SNOWDAS_SnowmeltRunoff_micromm10InPast</th>\n      <th>n_r_SNOWDAS_Sublimation_micromm10InPast</th>\n      <th>n_r_SNOWDAS_SolidPrecip_kgpersquarem10InPast</th>\n      <th>n_r_SNOWDAS_LiquidPrecip_kgpersquarem10InPast</th>\n      <th>n_r_SNOWDAS_SnowpackAveTemp_k10InPast</th>\n    </tr>\n  </thead>\n  <tbody>\n    <tr>\n      <th>0</th>\n      <td>3/23/16</td>\n      <td>alpineMeadows</td>\n      <td>Moderate</td>\n      <td>Moderate</td>\n      <td>Moderate</td>\n      <td>0.625</td>\n      <td>3.047504</td>\n      <td>1.00</td>\n      <td>3.119280</td>\n      <td>1.00</td>\n      <td>...</td>\n      <td>1</td>\n      <td>1</td>\n      <td>98.875</td>\n      <td>2708</td>\n      <td>923</td>\n      <td>664</td>\n      <td>-3</td>\n      <td>63</td>\n      <td>98</td>\n      <td>273</td>\n    </tr>\n    <tr>\n      <th>1</th>\n      <td>3/23/16</td>\n      <td>alpineMeadows</td>\n      <td>Moderate</td>\n      <td>Moderate</td>\n      <td>Moderate</td>\n      <td>0.250</td>\n      <td>3.594403</td>\n      <td>0.50</td>\n      <td>3.469913</td>\n      <td>0.50</td>\n      <td>...</td>\n      <td>0</td>\n      <td>0</td>\n      <td>93.875</td>\n      <td>2758</td>\n      <td>930</td>\n      <td>515</td>\n      <td>-10</td>\n      <td>55</td>\n      <td>76</td>\n      <td>273</td>\n    </tr>\n    <tr>\n      <th>2</th>\n      <td>3/23/16</td>\n      <td>alpineMeadows</td>\n      <td>Moderate</td>\n      <td>Moderate</td>\n      <td>Moderate</td>\n      <td>0.375</td>\n      <td>2.958464</td>\n      <td>0.75</td>\n      <td>2.901877</td>\n      <td>0.75</td>\n      <td>...</td>\n      <td>1</td>\n      <td>1</td>\n      <td>112.500</td>\n      <td>4115</td>\n      <td>1436</td>\n      <td>462</td>\n      <td>-9</td>\n      <td>143</td>\n      <td>59</td>\n      <td>273</td>\n    </tr>\n    <tr>\n      <th>3</th>\n      <td>3/23/16</td>\n      <td>alpineMeadows</td>\n      <td>Moderate</td>\n      <td>Moderate</td>\n      <td>Moderate</td>\n      <td>0.250</td>\n      <td>3.528096</td>\n      <td>0.50</td>\n      <td>3.383531</td>\n      <td>0.50</td>\n      <td>...</td>\n      <td>1</td>\n      <td>1</td>\n      <td>121.625</td>\n      <td>4215</td>\n      <td>1473</td>\n      <td>231</td>\n      <td>-13</td>\n      <td>135</td>\n      <td>45</td>\n      <td>273</td>\n    </tr>\n    <tr>\n      <th>4</th>\n      <td>3/23/16</td>\n      <td>alpineMeadows</td>\n      <td>Moderate</td>\n      <td>Moderate</td>\n      <td>Moderate</td>\n      <td>0.250</td>\n      <td>2.877540</td>\n      <td>0.50</td>\n      <td>2.833720</td>\n      <td>0.50</td>\n      <td>...</td>\n      <td>1</td>\n      <td>1</td>\n      <td>0.000</td>\n      <td>5102</td>\n      <td>1836</td>\n      <td>148</td>\n      <td>4</td>\n      <td>171</td>\n      <td>45</td>\n      <td>273</td>\n    </tr>\n  </tbody>\n</table>\n<p>5 rows × 349 columns</p>\n</div>"
     },
     "metadata": {},
     "execution_count": 41
    }
   ],
   "source": [
    "dfDest = pd.read_csv(\"shortlistFinalSeriesForTrainingWithLatLonUE.csv\")\n",
    "dfImport = pd.read_csv(\"CleanedForecastsForConvergenceNWAC.csv\")\n",
    "\n",
    "dfDest.head()"
   ]
  },
  {
   "cell_type": "code",
   "execution_count": 42,
   "metadata": {},
   "outputs": [
    {
     "output_type": "execute_result",
     "data": {
      "text/plain": "    regionToJoin                                        forecastUrl  \\\n0  alpineMeadows  http://www.nwac.us/avalanche-forecast/avalanch...   \n1      hartsPass  http://www.nwac.us/avalanche-forecast/avalanch...   \n2        lowEast  http://www.nwac.us/avalanche-forecast/avalanch...   \n3        lowWest  http://www.nwac.us/avalanche-forecast/avalanch...   \n4        mtAdams  http://www.nwac.us/avalanche-forecast/avalanch...   \n\n                                   forecastGroupLink     problem3Type  \\\n0  http://www.nwac.us/avalanche-forecast/avalanch...  Persistent Slab   \n1  http://www.nwac.us/avalanche-forecast/avalanch...        Wind Slab   \n2  http://www.nwac.us/avalanche-forecast/avalanch...  Persistent Slab   \n3  http://www.nwac.us/avalanche-forecast/avalanch...        Wind Slab   \n4  http://www.nwac.us/avalanche-forecast/avalanch...  Persistent Slab   \n\n  problem2Size problem2Likelihood day1DangerBelowTreeline  \\\n0        Large           Possible                Moderate   \n1        Large           Possible                Moderate   \n2        Large           Possible                Moderate   \n3        Large           Possible                Moderate   \n4        Large           Possible                Moderate   \n\n                                          regionName day1DangerAboveTreeline  \\\n0  East Slopes North - Canadian Border to Lake Ch...                Moderate   \n1  West Slopes North - Canadian Border to Skagit ...                Moderate   \n2  East Slopes North - Canadian Border to Lake Ch...                Moderate   \n3  West Slopes North - Canadian Border to Skagit ...                Moderate   \n4  East Slopes North - Canadian Border to Lake Ch...                Moderate   \n\n  day2DangerNearTreeline  ... problem3Size  \\\n0               Moderate  ...        Large   \n1               Moderate  ...        Small   \n2               Moderate  ...        Large   \n3               Moderate  ...        Small   \n4               Moderate  ...        Large   \n\n                              dateTime        problem2Rose  \\\n0  6:00 PM PST Tuesday, March 22, 2016  0b1000111110001111   \n1  6:00 PM PST Tuesday, March 22, 2016  0b1000111110001111   \n2  6:00 PM PST Tuesday, March 22, 2016  0b1000111110001111   \n3  6:00 PM PST Tuesday, March 22, 2016  0b1000111110001111   \n4  6:00 PM PST Tuesday, March 22, 2016  0b1000111110001111   \n\n              parsedDateTime          newParsedDateTime     date hourUtc  \\\n0  2016-03-22 18:00:00-07:00  2016-03-23 03:00:00-07:00  3/23/16       3   \n1  2016-03-22 18:00:00-07:00  2016-03-23 03:00:00-07:00  3/23/16       3   \n2  2016-03-22 18:00:00-07:00  2016-03-23 03:00:00-07:00  3/23/16       3   \n3  2016-03-22 18:00:00-07:00  2016-03-23 03:00:00-07:00  3/23/16       3   \n4  2016-03-22 18:00:00-07:00  2016-03-23 03:00:00-07:00  3/23/16       3   \n\n  minute   dif isBestDate  \n0      0  17.0       True  \n1      0  17.0       True  \n2      0  17.0       True  \n3      0  17.0       True  \n4      0  17.0       True  \n\n[5 rows x 33 columns]",
      "text/html": "<div>\n<style scoped>\n    .dataframe tbody tr th:only-of-type {\n        vertical-align: middle;\n    }\n\n    .dataframe tbody tr th {\n        vertical-align: top;\n    }\n\n    .dataframe thead th {\n        text-align: right;\n    }\n</style>\n<table border=\"1\" class=\"dataframe\">\n  <thead>\n    <tr style=\"text-align: right;\">\n      <th></th>\n      <th>regionToJoin</th>\n      <th>forecastUrl</th>\n      <th>forecastGroupLink</th>\n      <th>problem3Type</th>\n      <th>problem2Size</th>\n      <th>problem2Likelihood</th>\n      <th>day1DangerBelowTreeline</th>\n      <th>regionName</th>\n      <th>day1DangerAboveTreeline</th>\n      <th>day2DangerNearTreeline</th>\n      <th>...</th>\n      <th>problem3Size</th>\n      <th>dateTime</th>\n      <th>problem2Rose</th>\n      <th>parsedDateTime</th>\n      <th>newParsedDateTime</th>\n      <th>date</th>\n      <th>hourUtc</th>\n      <th>minute</th>\n      <th>dif</th>\n      <th>isBestDate</th>\n    </tr>\n  </thead>\n  <tbody>\n    <tr>\n      <th>0</th>\n      <td>alpineMeadows</td>\n      <td>http://www.nwac.us/avalanche-forecast/avalanch...</td>\n      <td>http://www.nwac.us/avalanche-forecast/avalanch...</td>\n      <td>Persistent Slab</td>\n      <td>Large</td>\n      <td>Possible</td>\n      <td>Moderate</td>\n      <td>East Slopes North - Canadian Border to Lake Ch...</td>\n      <td>Moderate</td>\n      <td>Moderate</td>\n      <td>...</td>\n      <td>Large</td>\n      <td>6:00 PM PST Tuesday, March 22, 2016</td>\n      <td>0b1000111110001111</td>\n      <td>2016-03-22 18:00:00-07:00</td>\n      <td>2016-03-23 03:00:00-07:00</td>\n      <td>3/23/16</td>\n      <td>3</td>\n      <td>0</td>\n      <td>17.0</td>\n      <td>True</td>\n    </tr>\n    <tr>\n      <th>1</th>\n      <td>hartsPass</td>\n      <td>http://www.nwac.us/avalanche-forecast/avalanch...</td>\n      <td>http://www.nwac.us/avalanche-forecast/avalanch...</td>\n      <td>Wind Slab</td>\n      <td>Large</td>\n      <td>Possible</td>\n      <td>Moderate</td>\n      <td>West Slopes North - Canadian Border to Skagit ...</td>\n      <td>Moderate</td>\n      <td>Moderate</td>\n      <td>...</td>\n      <td>Small</td>\n      <td>6:00 PM PST Tuesday, March 22, 2016</td>\n      <td>0b1000111110001111</td>\n      <td>2016-03-22 18:00:00-07:00</td>\n      <td>2016-03-23 03:00:00-07:00</td>\n      <td>3/23/16</td>\n      <td>3</td>\n      <td>0</td>\n      <td>17.0</td>\n      <td>True</td>\n    </tr>\n    <tr>\n      <th>2</th>\n      <td>lowEast</td>\n      <td>http://www.nwac.us/avalanche-forecast/avalanch...</td>\n      <td>http://www.nwac.us/avalanche-forecast/avalanch...</td>\n      <td>Persistent Slab</td>\n      <td>Large</td>\n      <td>Possible</td>\n      <td>Moderate</td>\n      <td>East Slopes North - Canadian Border to Lake Ch...</td>\n      <td>Moderate</td>\n      <td>Moderate</td>\n      <td>...</td>\n      <td>Large</td>\n      <td>6:00 PM PST Tuesday, March 22, 2016</td>\n      <td>0b1000111110001111</td>\n      <td>2016-03-22 18:00:00-07:00</td>\n      <td>2016-03-23 03:00:00-07:00</td>\n      <td>3/23/16</td>\n      <td>3</td>\n      <td>0</td>\n      <td>17.0</td>\n      <td>True</td>\n    </tr>\n    <tr>\n      <th>3</th>\n      <td>lowWest</td>\n      <td>http://www.nwac.us/avalanche-forecast/avalanch...</td>\n      <td>http://www.nwac.us/avalanche-forecast/avalanch...</td>\n      <td>Wind Slab</td>\n      <td>Large</td>\n      <td>Possible</td>\n      <td>Moderate</td>\n      <td>West Slopes North - Canadian Border to Skagit ...</td>\n      <td>Moderate</td>\n      <td>Moderate</td>\n      <td>...</td>\n      <td>Small</td>\n      <td>6:00 PM PST Tuesday, March 22, 2016</td>\n      <td>0b1000111110001111</td>\n      <td>2016-03-22 18:00:00-07:00</td>\n      <td>2016-03-23 03:00:00-07:00</td>\n      <td>3/23/16</td>\n      <td>3</td>\n      <td>0</td>\n      <td>17.0</td>\n      <td>True</td>\n    </tr>\n    <tr>\n      <th>4</th>\n      <td>mtAdams</td>\n      <td>http://www.nwac.us/avalanche-forecast/avalanch...</td>\n      <td>http://www.nwac.us/avalanche-forecast/avalanch...</td>\n      <td>Persistent Slab</td>\n      <td>Large</td>\n      <td>Possible</td>\n      <td>Moderate</td>\n      <td>East Slopes North - Canadian Border to Lake Ch...</td>\n      <td>Moderate</td>\n      <td>Moderate</td>\n      <td>...</td>\n      <td>Large</td>\n      <td>6:00 PM PST Tuesday, March 22, 2016</td>\n      <td>0b1000111110001111</td>\n      <td>2016-03-22 18:00:00-07:00</td>\n      <td>2016-03-23 03:00:00-07:00</td>\n      <td>3/23/16</td>\n      <td>3</td>\n      <td>0</td>\n      <td>17.0</td>\n      <td>True</td>\n    </tr>\n  </tbody>\n</table>\n<p>5 rows × 33 columns</p>\n</div>"
     },
     "metadata": {},
     "execution_count": 42
    }
   ],
   "source": [
    "dfImport.head()\n"
   ]
  },
  {
   "cell_type": "code",
   "execution_count": null,
   "metadata": {},
   "outputs": [],
   "source": [
    "def make_date_list(df, dl):\n",
    "    for i in range(len(df)):\n",
    "        if(df.loc[])"
   ]
  },
  {
   "cell_type": "code",
   "execution_count": 51,
   "metadata": {},
   "outputs": [
    {
     "output_type": "stream",
     "name": "stdout",
     "text": "146\n"
    }
   ],
   "source": [
    "datesImport = []\n",
    "datesTarget = []\n",
    "\n",
    "def find_dates (da)\n",
    "for i in range(len(dfImport)):\n",
    "    if(dfImport.loc[i,\"date\"] not in datesImport):\n",
    "        datesImport.append(dfImport.loc[i,\"date\"])\n",
    "\n",
    "for i in range(len(dfDest)):\n",
    "    \n",
    "\n",
    "print(len(datesImport))"
   ]
  },
  {
   "cell_type": "code",
   "execution_count": null,
   "metadata": {},
   "outputs": [],
   "source": [
    "for i in "
   ]
  },
  {
   "cell_type": "code",
   "execution_count": 43,
   "metadata": {},
   "outputs": [],
   "source": [
    "date_input = dfImport.loc[0, \"date\"]\n",
    "date_add = dfDest.loc[0, \"date\"]\n",
    "\n",
    "importIndex = 0\n",
    "\n",
    "rosesList = []\n",
    "probList = []\n",
    "sizeList = []\n",
    "likelihoodList = []\n",
    "\n",
    "for i in range(len(dfDest)):\n",
    "    if (dfDest.loc[i, \"date\"] == dfImport.loc[importIndex, \"date\"] and\n",
    "        dfDest.loc[i, \"regionToJoin\"] == dfImport.loc[importIndex, \"regionToJoin\"]):\n",
    "        rosesList.append(dfImport.loc[importIndex, \"problem1Rose\"])\n",
    "        probList.append(dfImport.loc[importIndex, \"problem1Type\"])\n",
    "        sizeList.append(dfImport.loc[importIndex, \"problem1Size\"])\n",
    "        likelihoodList.append(dfImport.loc[importIndex, \"problem1Likelihood\"])\n",
    "        if (i < (len(dfDest) - 1) and dfDest.loc[i, \"regionToJoin\"] != dfDest.loc[(i + 1), \"regionToJoin\"]):\n",
    "            importIndex += 1\n",
    "  \n",
    "\n",
    "\n",
    "\n",
    "\n"
   ]
  },
  {
   "cell_type": "code",
   "execution_count": 46,
   "metadata": {},
   "outputs": [
    {
     "output_type": "stream",
     "name": "stdout",
     "text": "12510\n<class 'str'>\n"
    }
   ],
   "source": [
    "print(len(rosesList))\n",
    "print(type(date_add))"
   ]
  },
  {
   "cell_type": "code",
   "execution_count": 45,
   "metadata": {},
   "outputs": [
    {
     "output_type": "error",
     "ename": "ValueError",
     "evalue": "Length of values does not match length of index",
     "traceback": [
      "\u001b[0;31m---------------------------------------------------------------------------\u001b[0m",
      "\u001b[0;31mValueError\u001b[0m                                Traceback (most recent call last)",
      "\u001b[0;32m<ipython-input-45-9d05570a7495>\u001b[0m in \u001b[0;36m<module>\u001b[0;34m\u001b[0m\n\u001b[1;32m      1\u001b[0m \u001b[0mnewData\u001b[0m \u001b[0;34m=\u001b[0m \u001b[0mdfDest\u001b[0m\u001b[0;34m.\u001b[0m\u001b[0mcopy\u001b[0m\u001b[0;34m(\u001b[0m\u001b[0;34m)\u001b[0m\u001b[0;34m\u001b[0m\u001b[0;34m\u001b[0m\u001b[0m\n\u001b[0;32m----> 2\u001b[0;31m \u001b[0mnewData\u001b[0m\u001b[0;34m[\u001b[0m\u001b[0;34m'problemRose'\u001b[0m\u001b[0;34m]\u001b[0m \u001b[0;34m=\u001b[0m \u001b[0mrosesList\u001b[0m\u001b[0;34m\u001b[0m\u001b[0;34m\u001b[0m\u001b[0m\n\u001b[0m\u001b[1;32m      3\u001b[0m \u001b[0mnewData\u001b[0m\u001b[0;34m[\u001b[0m\u001b[0;34m'problemHazard'\u001b[0m\u001b[0;34m]\u001b[0m \u001b[0;34m=\u001b[0m \u001b[0mprobList\u001b[0m\u001b[0;34m\u001b[0m\u001b[0;34m\u001b[0m\u001b[0m\n\u001b[1;32m      4\u001b[0m \u001b[0mnewData\u001b[0m\u001b[0;34m[\u001b[0m\u001b[0;34m'problemSize'\u001b[0m\u001b[0;34m]\u001b[0m \u001b[0;34m=\u001b[0m \u001b[0msizeList\u001b[0m\u001b[0;34m\u001b[0m\u001b[0;34m\u001b[0m\u001b[0m\n\u001b[1;32m      5\u001b[0m \u001b[0mnewData\u001b[0m\u001b[0;34m[\u001b[0m\u001b[0;34m'problemLikelihood'\u001b[0m\u001b[0;34m]\u001b[0m \u001b[0;34m=\u001b[0m \u001b[0mlikelihoodList\u001b[0m\u001b[0;34m\u001b[0m\u001b[0;34m\u001b[0m\u001b[0m\n",
      "\u001b[0;32m/usr/local/lib/python3.7/site-packages/pandas/core/frame.py\u001b[0m in \u001b[0;36m__setitem__\u001b[0;34m(self, key, value)\u001b[0m\n\u001b[1;32m   2936\u001b[0m         \u001b[0;32melse\u001b[0m\u001b[0;34m:\u001b[0m\u001b[0;34m\u001b[0m\u001b[0;34m\u001b[0m\u001b[0m\n\u001b[1;32m   2937\u001b[0m             \u001b[0;31m# set column\u001b[0m\u001b[0;34m\u001b[0m\u001b[0;34m\u001b[0m\u001b[0;34m\u001b[0m\u001b[0m\n\u001b[0;32m-> 2938\u001b[0;31m             \u001b[0mself\u001b[0m\u001b[0;34m.\u001b[0m\u001b[0m_set_item\u001b[0m\u001b[0;34m(\u001b[0m\u001b[0mkey\u001b[0m\u001b[0;34m,\u001b[0m \u001b[0mvalue\u001b[0m\u001b[0;34m)\u001b[0m\u001b[0;34m\u001b[0m\u001b[0;34m\u001b[0m\u001b[0m\n\u001b[0m\u001b[1;32m   2939\u001b[0m \u001b[0;34m\u001b[0m\u001b[0m\n\u001b[1;32m   2940\u001b[0m     \u001b[0;32mdef\u001b[0m \u001b[0m_setitem_slice\u001b[0m\u001b[0;34m(\u001b[0m\u001b[0mself\u001b[0m\u001b[0;34m,\u001b[0m \u001b[0mkey\u001b[0m\u001b[0;34m,\u001b[0m \u001b[0mvalue\u001b[0m\u001b[0;34m)\u001b[0m\u001b[0;34m:\u001b[0m\u001b[0;34m\u001b[0m\u001b[0;34m\u001b[0m\u001b[0m\n",
      "\u001b[0;32m/usr/local/lib/python3.7/site-packages/pandas/core/frame.py\u001b[0m in \u001b[0;36m_set_item\u001b[0;34m(self, key, value)\u001b[0m\n\u001b[1;32m   2998\u001b[0m \u001b[0;34m\u001b[0m\u001b[0m\n\u001b[1;32m   2999\u001b[0m         \u001b[0mself\u001b[0m\u001b[0;34m.\u001b[0m\u001b[0m_ensure_valid_index\u001b[0m\u001b[0;34m(\u001b[0m\u001b[0mvalue\u001b[0m\u001b[0;34m)\u001b[0m\u001b[0;34m\u001b[0m\u001b[0;34m\u001b[0m\u001b[0m\n\u001b[0;32m-> 3000\u001b[0;31m         \u001b[0mvalue\u001b[0m \u001b[0;34m=\u001b[0m \u001b[0mself\u001b[0m\u001b[0;34m.\u001b[0m\u001b[0m_sanitize_column\u001b[0m\u001b[0;34m(\u001b[0m\u001b[0mkey\u001b[0m\u001b[0;34m,\u001b[0m \u001b[0mvalue\u001b[0m\u001b[0;34m)\u001b[0m\u001b[0;34m\u001b[0m\u001b[0;34m\u001b[0m\u001b[0m\n\u001b[0m\u001b[1;32m   3001\u001b[0m         \u001b[0mNDFrame\u001b[0m\u001b[0;34m.\u001b[0m\u001b[0m_set_item\u001b[0m\u001b[0;34m(\u001b[0m\u001b[0mself\u001b[0m\u001b[0;34m,\u001b[0m \u001b[0mkey\u001b[0m\u001b[0;34m,\u001b[0m \u001b[0mvalue\u001b[0m\u001b[0;34m)\u001b[0m\u001b[0;34m\u001b[0m\u001b[0;34m\u001b[0m\u001b[0m\n\u001b[1;32m   3002\u001b[0m \u001b[0;34m\u001b[0m\u001b[0m\n",
      "\u001b[0;32m/usr/local/lib/python3.7/site-packages/pandas/core/frame.py\u001b[0m in \u001b[0;36m_sanitize_column\u001b[0;34m(self, key, value, broadcast)\u001b[0m\n\u001b[1;32m   3634\u001b[0m \u001b[0;34m\u001b[0m\u001b[0m\n\u001b[1;32m   3635\u001b[0m             \u001b[0;31m# turn me into an ndarray\u001b[0m\u001b[0;34m\u001b[0m\u001b[0;34m\u001b[0m\u001b[0;34m\u001b[0m\u001b[0m\n\u001b[0;32m-> 3636\u001b[0;31m             \u001b[0mvalue\u001b[0m \u001b[0;34m=\u001b[0m \u001b[0msanitize_index\u001b[0m\u001b[0;34m(\u001b[0m\u001b[0mvalue\u001b[0m\u001b[0;34m,\u001b[0m \u001b[0mself\u001b[0m\u001b[0;34m.\u001b[0m\u001b[0mindex\u001b[0m\u001b[0;34m,\u001b[0m \u001b[0mcopy\u001b[0m\u001b[0;34m=\u001b[0m\u001b[0;32mFalse\u001b[0m\u001b[0;34m)\u001b[0m\u001b[0;34m\u001b[0m\u001b[0;34m\u001b[0m\u001b[0m\n\u001b[0m\u001b[1;32m   3637\u001b[0m             \u001b[0;32mif\u001b[0m \u001b[0;32mnot\u001b[0m \u001b[0misinstance\u001b[0m\u001b[0;34m(\u001b[0m\u001b[0mvalue\u001b[0m\u001b[0;34m,\u001b[0m \u001b[0;34m(\u001b[0m\u001b[0mnp\u001b[0m\u001b[0;34m.\u001b[0m\u001b[0mndarray\u001b[0m\u001b[0;34m,\u001b[0m \u001b[0mIndex\u001b[0m\u001b[0;34m)\u001b[0m\u001b[0;34m)\u001b[0m\u001b[0;34m:\u001b[0m\u001b[0;34m\u001b[0m\u001b[0;34m\u001b[0m\u001b[0m\n\u001b[1;32m   3638\u001b[0m                 \u001b[0;32mif\u001b[0m \u001b[0misinstance\u001b[0m\u001b[0;34m(\u001b[0m\u001b[0mvalue\u001b[0m\u001b[0;34m,\u001b[0m \u001b[0mlist\u001b[0m\u001b[0;34m)\u001b[0m \u001b[0;32mand\u001b[0m \u001b[0mlen\u001b[0m\u001b[0;34m(\u001b[0m\u001b[0mvalue\u001b[0m\u001b[0;34m)\u001b[0m \u001b[0;34m>\u001b[0m \u001b[0;36m0\u001b[0m\u001b[0;34m:\u001b[0m\u001b[0;34m\u001b[0m\u001b[0;34m\u001b[0m\u001b[0m\n",
      "\u001b[0;32m/usr/local/lib/python3.7/site-packages/pandas/core/internals/construction.py\u001b[0m in \u001b[0;36msanitize_index\u001b[0;34m(data, index, copy)\u001b[0m\n\u001b[1;32m    609\u001b[0m \u001b[0;34m\u001b[0m\u001b[0m\n\u001b[1;32m    610\u001b[0m     \u001b[0;32mif\u001b[0m \u001b[0mlen\u001b[0m\u001b[0;34m(\u001b[0m\u001b[0mdata\u001b[0m\u001b[0;34m)\u001b[0m \u001b[0;34m!=\u001b[0m \u001b[0mlen\u001b[0m\u001b[0;34m(\u001b[0m\u001b[0mindex\u001b[0m\u001b[0;34m)\u001b[0m\u001b[0;34m:\u001b[0m\u001b[0;34m\u001b[0m\u001b[0;34m\u001b[0m\u001b[0m\n\u001b[0;32m--> 611\u001b[0;31m         \u001b[0;32mraise\u001b[0m \u001b[0mValueError\u001b[0m\u001b[0;34m(\u001b[0m\u001b[0;34m\"Length of values does not match length of index\"\u001b[0m\u001b[0;34m)\u001b[0m\u001b[0;34m\u001b[0m\u001b[0;34m\u001b[0m\u001b[0m\n\u001b[0m\u001b[1;32m    612\u001b[0m \u001b[0;34m\u001b[0m\u001b[0m\n\u001b[1;32m    613\u001b[0m     \u001b[0;32mif\u001b[0m \u001b[0misinstance\u001b[0m\u001b[0;34m(\u001b[0m\u001b[0mdata\u001b[0m\u001b[0;34m,\u001b[0m \u001b[0mABCIndexClass\u001b[0m\u001b[0;34m)\u001b[0m \u001b[0;32mand\u001b[0m \u001b[0;32mnot\u001b[0m \u001b[0mcopy\u001b[0m\u001b[0;34m:\u001b[0m\u001b[0;34m\u001b[0m\u001b[0;34m\u001b[0m\u001b[0m\n",
      "\u001b[0;31mValueError\u001b[0m: Length of values does not match length of index"
     ]
    }
   ],
   "source": [
    "newData = dfDest.copy()\n",
    "newData['problemRose'] = rosesList\n",
    "newData['problemHazard'] = probList\n",
    "newData['problemSize'] = sizeList\n",
    "newData['problemLikelihood'] = likelihoodList\n",
    "\n",
    "newData.head()"
   ]
  },
  {
   "cell_type": "code",
   "execution_count": 33,
   "metadata": {},
   "outputs": [],
   "source": [
    "newData.to_csv('revisedData.csv')"
   ]
  },
  {
   "cell_type": "code",
   "execution_count": 49,
   "metadata": {},
   "outputs": [
    {
     "output_type": "error",
     "ename": "SyntaxError",
     "evalue": "unexpected EOF while parsing (<ipython-input-49-7c0e27c4aee0>, line 4)",
     "traceback": [
      "\u001b[0;36m  File \u001b[0;32m\"<ipython-input-49-7c0e27c4aee0>\"\u001b[0;36m, line \u001b[0;32m4\u001b[0m\n\u001b[0;31m    if (dfDest.loc[i, \"Date\"] not in dfImport.date) :\u001b[0m\n\u001b[0m                                                     ^\u001b[0m\n\u001b[0;31mSyntaxError\u001b[0m\u001b[0;31m:\u001b[0m unexpected EOF while parsing\n"
     ]
    }
   ],
   "source": []
  },
  {
   "cell_type": "code",
   "execution_count": null,
   "metadata": {},
   "outputs": [],
   "source": []
  }
 ],
 "metadata": {
  "language_info": {
   "codemirror_mode": {
    "name": "ipython",
    "version": 3
   },
   "file_extension": ".py",
   "mimetype": "text/x-python",
   "name": "python",
   "nbconvert_exporter": "python",
   "pygments_lexer": "ipython3",
   "version": "3.7.5-final"
  },
  "orig_nbformat": 2,
  "kernelspec": {
   "name": "python37564bit1cd1a506bf62492f81d9837d3638bb36",
   "display_name": "Python 3.7.5 64-bit"
  }
 },
 "nbformat": 4,
 "nbformat_minor": 2
}